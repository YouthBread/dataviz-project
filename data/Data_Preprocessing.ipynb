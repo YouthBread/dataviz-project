{
 "cells": [
  {
   "cell_type": "code",
   "execution_count": 11,
   "metadata": {},
   "outputs": [],
   "source": [
    "import pandas as pd\n",
    "import requests\n",
    "from datetime import datetime"
   ]
  },
  {
   "cell_type": "markdown",
   "metadata": {},
   "source": [
    "# Deal with Injurty data"
   ]
  },
  {
   "cell_type": "code",
   "execution_count": null,
   "metadata": {},
   "outputs": [],
   "source": [
    "df = pd.read_csv('injury.csv', header=0)"
   ]
  },
  {
   "cell_type": "code",
   "execution_count": null,
   "metadata": {},
   "outputs": [],
   "source": [
    "df"
   ]
  },
  {
   "cell_type": "code",
   "execution_count": null,
   "metadata": {},
   "outputs": [],
   "source": [
    "df['Date'] = df['Date'].apply(lambda x:'0'+str(x) if len(str(x)) == 1 else str(x))\n"
   ]
  },
  {
   "cell_type": "code",
   "execution_count": null,
   "metadata": {},
   "outputs": [],
   "source": [
    "for n in df['Content'].unique():\n",
    "    if 'rest' in n or 'returned' in n or 'sore' in n:\n",
    "        print(n)"
   ]
  },
  {
   "cell_type": "code",
   "execution_count": null,
   "metadata": {},
   "outputs": [],
   "source": [
    "delete = ['sore left foot', 'sore right knee','sore left shin','rest','general soreness / rest','returned to lineup','sore right shoulder']\n",
    "for n in delete:\n",
    "    df = df.drop(df.loc[df.Content == n].index)"
   ]
  },
  {
   "cell_type": "code",
   "execution_count": null,
   "metadata": {},
   "outputs": [],
   "source": [
    "df.set_index('Date').to_csv('injury.csv',index='Date')"
   ]
  },
  {
   "cell_type": "code",
   "execution_count": null,
   "metadata": {},
   "outputs": [],
   "source": [
    "df.drop_duplicates().set_index('Date').to_csv('injury.csv')"
   ]
  },
  {
   "cell_type": "markdown",
   "metadata": {},
   "source": [
    "# Get data from NBA stats"
   ]
  },
  {
   "cell_type": "code",
   "execution_count": null,
   "metadata": {},
   "outputs": [],
   "source": [
    "HEADERS = {'user-agent': ('Mozilla/5.0 (Macintosh; Intel Mac OS X 10_10_5) '\n",
    "                          'AppleWebKit/537.36 (KHTML, like Gecko) '\n",
    "                          'Chrome/45.0.2454.101 Safari/537.36'),\n",
    "           'referer': 'http://stats.nba.com/scores/'\n",
    "          }"
   ]
  },
  {
   "cell_type": "code",
   "execution_count": null,
   "metadata": {},
   "outputs": [],
   "source": [
    "# Get all Kobe shot data from 1996 to 2016 and put it into an array\n",
    "# This player ID comes from stats.nba.com (http://stats.nba.com/player/#!/977/stats/)\n",
    "playerID = \"977\"\n",
    "seasons = []\n",
    "for season in range(1996,2016):\n",
    "    # The stats.nba.com API wants season as \"1996-97\"\n",
    "    seasonString = str(season) + '-' + str(season+1)[2:]\n",
    "\n",
    "    # The stats.nba.com endpoint we are using is http://stats.nba.com/stats/shotchartdetail\n",
    "    # More info on endpoints: https://github.com/seemethere/nba_py/wiki/stats.nba.com-Endpoint-Documentation\n",
    "    shot_chart_url = 'http://stats.nba.com/stats/shotchartdetail?Period=0&VsConference=&LeagueID=00&LastNGames=0&TeamID=0&Position=&Location=&Outcome=&ContextMeasure=FGA&DateFrom=&StartPeriod=&DateTo=&OpponentTeamID=0&ContextFilter=&RangeType=&Season=' + seasonString + '&AheadBehind=&EndRange=&VsDivision=&PointDiff=&RookieYear=&GameSegment=&Month=0&ClutchTime=&StartRange=&EndPeriod=&SeasonType=Regular+Season&SeasonSegment=&GameID=&PlayerID=' + playerID + '&CFID=&PlayerPosition='\n",
    "    response = requests.get(shot_chart_url, headers=HEADERS)\n",
    "    # Split response into headers and content\n",
    "    headers = response.json()['resultSets'][0]['headers']\n",
    "    shots = response.json()['resultSets'][0]['rowSet']\n",
    "\n",
    "    # Create pandas dataframe to hold the data\n",
    "    shot_df = pd.DataFrame(shots, columns=headers)\n",
    "\n",
    "    # add extra column for season\n",
    "    shot_df['SEASON'] = seasonString\n",
    "\n",
    "    # add extra column for playoff flag\n",
    "    shot_df['playoffs'] = 0\n",
    "    \n",
    "    seasons.append(shot_df)\n",
    "    \n",
    "\n",
    "# Do the same thing for all the playoff shots\n",
    "for season in range(1996,2016):\n",
    "    seasonString = str(season) + '-' + str(season+1)[2:]\n",
    "\n",
    "    # This URL is the same except for the parameter SeasonType=Playoffs\n",
    "    shot_chart_url = 'http://stats.nba.com/stats/shotchartdetail?Period=0&VsConference=&LeagueID=00&LastNGames=0&TeamID=0&Position=&Location=&Outcome=&ContextMeasure=FGA&DateFrom=&StartPeriod=&DateTo=&OpponentTeamID=0&ContextFilter=&RangeType=&Season=' + seasonString + '&AheadBehind=&EndRange=&VsDivision=&PointDiff=&RookieYear=&GameSegment=&Month=0&ClutchTime=&StartRange=&EndPeriod=&SeasonType=Playoffs&SeasonSegment=&GameID=&PlayerID=' + playerID + '&CFID=&PlayerPosition='\n",
    "    response = requests.get(shot_chart_url, headers=HEADERS)\n",
    "    \n",
    "    headers = response.json()['resultSets'][0]['headers']\n",
    "    shots = response.json()['resultSets'][0]['rowSet']\n",
    "    \n",
    "    shot_df = pd.DataFrame(shots, columns=headers)\n",
    "    shot_df['SEASON'] = str(season) + '-' + str(season+1)[2:]\n",
    "    shot_df['playoffs'] = 1\n",
    "    \n",
    "    seasons.append(shot_df)"
   ]
  },
  {
   "cell_type": "code",
   "execution_count": null,
   "metadata": {},
   "outputs": [],
   "source": [
    "# combine all season and playoffs dataframes into one dataframe\n",
    "kobe_all_shots = pd.concat(seasons)\n",
    "kobe_all_shots.columns = [n.lower() for n in kobe_all_shots.columns]\n",
    "# dump a csv file\n",
    "kobe_all_shots.to_csv(\"kobe_all_shots.csv\")"
   ]
  },
  {
   "cell_type": "markdown",
   "metadata": {},
   "source": [
    "# Add Score column for each shot"
   ]
  },
  {
   "cell_type": "code",
   "execution_count": null,
   "metadata": {},
   "outputs": [],
   "source": [
    "df = pd.read_csv('kobe.csv', index_col=0)"
   ]
  },
  {
   "cell_type": "code",
   "execution_count": null,
   "metadata": {},
   "outputs": [],
   "source": [
    "df['score'] = df['shot_made_flag'] * 1"
   ]
  },
  {
   "cell_type": "code",
   "execution_count": null,
   "metadata": {},
   "outputs": [],
   "source": [
    "df['score'] = df['score'] * df['shot_type'].apply(lambda x:2 if '2' in x else 3)"
   ]
  },
  {
   "cell_type": "code",
   "execution_count": null,
   "metadata": {},
   "outputs": [],
   "source": [
    "df.to_csv(\"kobe.csv\")"
   ]
  },
  {
   "cell_type": "markdown",
   "metadata": {},
   "source": [
    "# Add injury column"
   ]
  },
  {
   "cell_type": "code",
   "execution_count": 6,
   "metadata": {},
   "outputs": [],
   "source": [
    "data = pd.read_csv('kobe.csv', index_col=0)\n",
    "injury = pd.read_csv('complete_injury.csv')"
   ]
  },
  {
   "cell_type": "code",
   "execution_count": 15,
   "metadata": {},
   "outputs": [],
   "source": [
    "injury['Date'] = injury['Date'].apply(lambda x:datetime.strptime(x, '%m/%d/%y').strftime(\"%Y%m%d\"))"
   ]
  },
  {
   "cell_type": "code",
   "execution_count": 18,
   "metadata": {},
   "outputs": [],
   "source": [
    "injury = injury.rename(columns={'Date':'game_date'})"
   ]
  },
  {
   "cell_type": "code",
   "execution_count": 23,
   "metadata": {},
   "outputs": [
    {
     "data": {
      "text/plain": [
       "array([nan], dtype=object)"
      ]
     },
     "execution_count": 23,
     "metadata": {},
     "output_type": "execute_result"
    }
   ],
   "source": [
    "data.merge(injury, on='game_date', how='left')['Notes'].unique()"
   ]
  },
  {
   "cell_type": "code",
   "execution_count": 26,
   "metadata": {},
   "outputs": [
    {
     "data": {
      "text/plain": [
       "0      19961103\n",
       "1      19961105\n",
       "2      19961106\n",
       "3      19961106\n",
       "4      19961106\n",
       "5      19961108\n",
       "6      19961108\n",
       "7      19961108\n",
       "8      19961108\n",
       "9      19961108\n",
       "10     19961108\n",
       "11     19961108\n",
       "12     19961108\n",
       "13     19961110\n",
       "14     19961110\n",
       "15     19961110\n",
       "16     19961112\n",
       "17     19961112\n",
       "18     19961113\n",
       "19     19961113\n",
       "20     19961115\n",
       "21     19961115\n",
       "22     19961115\n",
       "23     19961115\n",
       "24     19961117\n",
       "25     19961117\n",
       "26     19961117\n",
       "27     19961117\n",
       "28     19961117\n",
       "29     19961117\n",
       "         ...   \n",
       "271    20120521\n",
       "272    20120521\n",
       "273    20120521\n",
       "274    20120521\n",
       "275    20120521\n",
       "276    20120521\n",
       "277    20120521\n",
       "278    20120521\n",
       "279    20120521\n",
       "280    20120521\n",
       "281    20120521\n",
       "282    20120521\n",
       "283    20120521\n",
       "284    20120521\n",
       "285    20120521\n",
       "286    20120521\n",
       "287    20120521\n",
       "288    20120521\n",
       "289    20120521\n",
       "290    20120521\n",
       "291    20120521\n",
       "292    20120521\n",
       "293    20120521\n",
       "294    20120521\n",
       "295    20120521\n",
       "296    20120521\n",
       "297    20120521\n",
       "298    20120521\n",
       "299    20120521\n",
       "300    20120521\n",
       "Name: game_date, Length: 30697, dtype: int64"
      ]
     },
     "execution_count": 26,
     "metadata": {},
     "output_type": "execute_result"
    }
   ],
   "source": [
    "data['game_date']"
   ]
  },
  {
   "cell_type": "code",
   "execution_count": null,
   "metadata": {},
   "outputs": [],
   "source": []
  }
 ],
 "metadata": {
  "kernelspec": {
   "display_name": "Python 3",
   "language": "python",
   "name": "python3"
  },
  "language_info": {
   "codemirror_mode": {
    "name": "ipython",
    "version": 3
   },
   "file_extension": ".py",
   "mimetype": "text/x-python",
   "name": "python",
   "nbconvert_exporter": "python",
   "pygments_lexer": "ipython3",
   "version": "3.6.2"
  }
 },
 "nbformat": 4,
 "nbformat_minor": 2
}
